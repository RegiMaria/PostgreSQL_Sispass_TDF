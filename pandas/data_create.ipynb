{
 "cells": [
  {
   "cell_type": "code",
   "execution_count": 1,
   "id": "8b313177-3a46-4b61-839d-20bf373de7b1",
   "metadata": {},
   "outputs": [],
   "source": [
    "import pandas as pd\n",
    "import csv"
   ]
  },
  {
   "cell_type": "markdown",
   "id": "dc26598c-1cb9-4b3e-90a6-f2fedea3fe61",
   "metadata": {},
   "source": [
    "Para criar um df com especialidades médicas e descrições:"
   ]
  },
  {
   "cell_type": "code",
   "execution_count": 2,
   "id": "d8ce648b-9cdd-4549-b3af-4b2ce913b838",
   "metadata": {},
   "outputs": [
    {
     "name": "stdout",
     "output_type": "stream",
     "text": [
      "Arquivos salvos com sucesso!\n"
     ]
    }
   ],
   "source": [
    "dados = [\n",
    "   ('Cardiologia', 'Diagnóstico e tratamento de doenças relacionadas ao coração e ao sistema cardiovascular.'),\n",
    "    ('Ortopedia', 'Trata lesões e doenças relacionadas ao sistema musculoesquelético, incluindo ossos, músculos, articulações, tendões e ligamentos.'),\n",
    "    ('Pediatria', 'Concentra-se na saúde e no desenvolvimento de crianças, desde o nascimento até a adolescência. Os pediatras lidam com uma ampla gama de questões de saúde infantil.'),\n",
    "    ('Ginecologia', 'Trata da saúde do sistema reprodutivo feminino, incluindo órgãos como o útero, os ovários e a vagina, além de questões relacionadas à saúde sexual e reprodutiva da mulher.'),\n",
    "    ('Neurologia', 'Diagnóstico e tratamento de distúrbios do sistema nervoso, incluindo o cérebro, a medula espinhal e os nervos periféricos.'),\n",
    "    ('Dermatologia', 'Diagnóstico e tratamento de doenças da pele, cabelo e unhas, além de problemas relacionados à saúde da pele, como acne, eczema e câncer de pele.'),\n",
    "    ('Oftalmologia', 'Diagnóstico e tratamento de doenças e distúrbios relacionados aos olhos e à visão.'),\n",
    "    ('Otorrinolaringologia', 'Diagnóstico e tratamento de distúrbios do ouvido, nariz, garganta, cabeça e pescoço, incluindo problemas de audição, respiração, fala e equilíbrio.'),\n",
    "    ('Urologia', 'Trata de doenças do trato urinário em homens e mulheres, além de distúrbios do sistema reprodutor masculino.'),\n",
    "    ('Endocrinologia', 'Diagnóstico e tratamento de distúrbios hormonais, incluindo diabetes, doenças da tireoide e distúrbios metabólicos.'),\n",
    "    ('Oncologia', 'Diagnóstico e tratamento de câncer, incluindo terapias como quimioterapia, radioterapia e imunoterapia.'),\n",
    "    ('Psiquiatria', 'Diagnóstico e tratamento de distúrbios mentais, incluindo depressão, ansiedade, esquizofrenia e transtorno bipolar.'),\n",
    "    ('Cirurgia Geral', 'Abrange uma ampla gama de procedimentos cirúrgicos, incluindo cirurgias abdominais, de mama, de tireoide e de emergência.'),\n",
    "    ('Radiologia', 'Técnicas de imagem, como raios-X, ressonância magnética e tomografia computadorizada, para diagnosticar e tratar doenças e lesões.'),\n",
    "    ('Infectologia', 'Diagnóstico, prevenção e tratamento de doenças infecciosas causadas por bactérias, vírus, fungos e parasitas.'),\n",
    "    ('Hematologia', 'Trata de doenças relacionadas ao sangue, incluindo distúrbios da coagulação, anemias e cânceres do sangue, como leucemia e linfoma.'),\n",
    "    ('Nefrologia', 'Especialidade médica que trata de doenças dos rins, incluindo insuficiência renal, hipertensão arterial e distúrbios eletrolíticos.'),\n",
    "    ('Reumatologia', 'Concentra-se no diagnóstico e tratamento de distúrbios do sistema musculoesquelético e do sistema imunológico, como artrite, lúpus e fibromialgia.'),\n",
    "    ('Pneumologia', 'Envolvida no diagnóstico e tratamento de doenças respiratórias, como asma, bronquite, enfisema e pneumonia.'),\n",
    "    ('Hepatologia', 'Diagnóstico e tratamento das doenças do fígado, vesícula biliar, ductos biliares e das vias biliares.')\n",
    "]\n",
    "\n",
    "df_especialidades = pd.DataFrame(dados, columns=['Especialidade', 'Descrição'])\n",
    "\n",
    "# Salvando em Excel (xlsx)\n",
    "df_especialidades.to_excel('especialidades.xlsx', index=False)\n",
    "\n",
    "# Salvando em CSV:\n",
    "df_especialidades.to_csv('especialidades.csv', index=False)\n",
    "\n",
    "print(\"Arquivos salvos com sucesso!\")\n"
   ]
  },
  {
   "cell_type": "code",
   "execution_count": null,
   "id": "3adeff85-6fdf-49e0-9429-b868449ade21",
   "metadata": {},
   "outputs": [],
   "source": []
  }
 ],
 "metadata": {
  "kernelspec": {
   "display_name": "Python 3 (ipykernel)",
   "language": "python",
   "name": "python3"
  },
  "language_info": {
   "codemirror_mode": {
    "name": "ipython",
    "version": 3
   },
   "file_extension": ".py",
   "mimetype": "text/x-python",
   "name": "python",
   "nbconvert_exporter": "python",
   "pygments_lexer": "ipython3",
   "version": "3.11.8"
  }
 },
 "nbformat": 4,
 "nbformat_minor": 5
}
